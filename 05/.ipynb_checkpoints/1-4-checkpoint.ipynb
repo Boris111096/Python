{
 "cells": [
  {
   "cell_type": "markdown",
   "metadata": {},
   "source": [
    "# Домашнее задание к лекции «Исключения и обработка ошибок»"
   ]
  },
  {
   "cell_type": "markdown",
   "metadata": {},
   "source": [
    "### Задание 1\n",
    "Печатные газеты использовали свой формат дат для каждого выпуска. Для каждой газеты из списка напишите формат указанной даты для перевода в объект datetime:\n",
    "\n",
    "The Moscow Times - Wednesday, October 2, 2002\n",
    "\n",
    "The Guardian - Friday, 11.10.13\n",
    "\n",
    "Daily News - Thursday, 18 August 1977"
   ]
  },
  {
   "cell_type": "code",
   "execution_count": null,
   "metadata": {},
   "outputs": [],
   "source": [
    "from datetime import datetime\n",
    "\n",
    "The_Moscow_Times = 'Wednesday, October 2, 2002'\n",
    "The_Guardian = 'Friday, 11.10.13'\n",
    "Daily_News = 'Thursday, 18 August 1977'\n",
    "\n",
    "print(f\"The Moscow Times - {datetime.strptime(The_Moscow_Times,'%A, %B %d, %Y')}\")\n",
    "print(f\"The Guardian - {datetime.strptime(The_Guardian,'%A, %d.%m.%y')}\")\n",
    "print(f\"Daily News - {datetime.strptime(Daily_News,'%A, %d %B %Y')}\")"
   ]
  },
  {
   "cell_type": "markdown",
   "metadata": {},
   "source": [
    "### Задание 2\n",
    "Дан поток дат в формате YYYY-MM-DD, в которых встречаются некорректные значения:\n",
    "\n",
    "stream = [‘2018-04-02’, ‘2018-02-29’, ‘2018-19-02’]\n",
    "\n",
    "Напишите функцию, которая проверяет эти даты на корректность. Т. е. для каждой даты возвращает True (дата корректна) или False (некорректная дата)."
   ]
  },
  {
   "cell_type": "code",
   "execution_count": null,
   "metadata": {},
   "outputs": [],
   "source": [
    "stream = ['2018-04-02', '2018-02-29', '2018-19-02']\n",
    "\n",
    "from datetime import datetime\n",
    "\n",
    "def test(date):\n",
    "    try:\n",
    "        datetime.strptime(date,'%Y-%m-%d')\n",
    "        return True\n",
    "    except:\n",
    "        pass\n",
    "        return False\n",
    "\n",
    "for item in stream:\n",
    "    print(f'{item} - {test(item)}')"
   ]
  },
  {
   "cell_type": "markdown",
   "metadata": {},
   "source": [
    "### Задание 3\n",
    "\n",
    "Напишите функцию date_range, которая возвращает список дат за период от start_date до end_date. Даты должны вводиться в формате YYYY-MM-DD. В случае неверного формата или при start_date > end_date должен возвращаться пустой список."
   ]
  },
  {
   "cell_type": "code",
   "execution_count": null,
   "metadata": {},
   "outputs": [],
   "source": [
    "from datetime import datetime, timedelta\n",
    "\n",
    "def date_range(start_date, end_date):\n",
    "    try:\n",
    "        if datetime.strptime(start_date, '%Y-%m-%d') <= datetime.strptime(end_date, '%Y-%m-%d'):\n",
    "            return [datetime.strftime(datetime.strptime(start_date, '%Y-%m-%d') + timedelta(days = delta), '%Y-%m-%d')\n",
    "              for delta in range((datetime.strptime(end_date, '%Y-%m-%d') - datetime.strptime(start_date, '%Y-%m-%d')).days+1)]\n",
    "        else:\n",
    "            return []\n",
    "    except:\n",
    "        return []\n",
    "        pass\n",
    "        \n",
    "\n",
    "date_range(input('Введите дату начала: '), input('Введите дату конца: '))"
   ]
  },
  {
   "cell_type": "code",
   "execution_count": null,
   "metadata": {},
   "outputs": [],
   "source": [
    "# Второй вариант решения с применением функции из Задания 2.\n",
    "\n",
    "from datetime import datetime, timedelta\n",
    "\n",
    "def date_range(start_date, end_date):\n",
    "    if test(start_date) == True and test(end_date) == True and start_date <= end_date:\n",
    "        return [datetime.strftime(datetime.strptime(start_date, '%Y-%m-%d') + timedelta(days = delta), '%Y-%m-%d')\n",
    "            for delta in range((datetime.strptime(end_date, '%Y-%m-%d') - datetime.strptime(start_date, '%Y-%m-%d')).days+1)]\n",
    "    else:\n",
    "        return []\n",
    "\n",
    "        \n",
    "\n",
    "date_range(input('Введите дату начала: '), input('Введите дату конца: '))"
   ]
  },
  {
   "cell_type": "markdown",
   "metadata": {},
   "source": [
    "### Задание 4 (бонусное)\n",
    "Ваш коллега прислал код функции:\n",
    "\n",
    "DEFAULT_USER_COUNT = 3\n",
    "\n",
    "def delete_and_return_last_user(region, default_list=[‘A100’, ‘A101’, ‘A102’]):\n",
    "\n",
    "\"\"“\n",
    "\n",
    "Удаляет из списка default_list последнего пользователя\n",
    "и возвращает ID нового последнего пользователя.\n",
    "\n",
    "”\"\"\n",
    "\n",
    "element_to_delete = default_list[-1]\n",
    "\n",
    "default_list.remove(element_to_delete)\n",
    "\n",
    "return default_list[DEFAULT_USER_COUNT-2]\n",
    "\n",
    "При однократном вызове этой функции все работает корректно:\n",
    "\n",
    "delete_and_return_last_user(1)\n",
    "\n",
    "‘A101’\n",
    "\n",
    "Однако, при повторном вызове получается ошибка IndexError: list index out of range.\n",
    "\n",
    "Задание:\n",
    "\n",
    "1. Что значит ошибка list index out of range?\n",
    "2. Почему при первом запуске функция работает корректно, а при втором - нет?"
   ]
  },
  {
   "cell_type": "markdown",
   "metadata": {},
   "source": [
    "___\n",
    "### Ответ:\n",
    "1. \"list index out of range\" означает, что функция пытается обратиться к такому индексу списка, которого не существует.\n",
    "2. Потому что объявлена глобальная переменная DEFAULT_USER_COUNT = 3. А функция всегда возвращает элемент списка с индексом [DEFAULT_USER_COUNT-2] == [3-2] == [1]. И если в первом вызове она удаляет 2й элемент списка и обращается к первому, и в итоге всё нормально, то при повторном вызове она удаляет этот самый первый элемент и тут же пытается к нему обратиться, что вызывает ошибку."
   ]
  },
  {
   "cell_type": "code",
   "execution_count": null,
   "metadata": {},
   "outputs": [],
   "source": []
  }
 ],
 "metadata": {
  "kernelspec": {
   "display_name": "Python 3",
   "language": "python",
   "name": "python3"
  },
  "language_info": {
   "codemirror_mode": {
    "name": "ipython",
    "version": 3
   },
   "file_extension": ".py",
   "mimetype": "text/x-python",
   "name": "python",
   "nbconvert_exporter": "python",
   "pygments_lexer": "ipython3",
   "version": "3.8.3"
  }
 },
 "nbformat": 4,
 "nbformat_minor": 4
}
