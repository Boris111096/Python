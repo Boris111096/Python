{
 "cells": [
  {
   "cell_type": "code",
   "execution_count": null,
   "metadata": {},
   "outputs": [],
   "source": [
    "data = [ [13, 25, 23, 34], [45, 32, 44, 47], [12, 33, 23, 95], [13, 53, 34, 35] ]\n",
    "\n",
    "sum([row[index] for index, row in enumerate(data)])"
   ]
  },
  {
   "cell_type": "code",
   "execution_count": null,
   "metadata": {},
   "outputs": [],
   "source": [
    "for index, row in enumerate(data):\n",
    "    print(row, index, '\\n')"
   ]
  },
  {
   "cell_type": "code",
   "execution_count": null,
   "metadata": {},
   "outputs": [],
   "source": [
    "{x : x**2 for x in range(1, 21)}"
   ]
  },
  {
   "cell_type": "code",
   "execution_count": 21,
   "metadata": {},
   "outputs": [
    {
     "data": {
      "text/plain": [
       "27.5"
      ]
     },
     "execution_count": 21,
     "metadata": {},
     "output_type": "execute_result"
    }
   ],
   "source": [
    "people = {  1: {'name': 'Oleg', 'age': '29', 'sex': 'Male'},\n",
    "            2: {'name': 'Kate', 'age': '21', 'sex': 'Female'},\n",
    "            3: {'name': 'Liza', 'age': '24', 'sex': 'Female'},\n",
    "            4: {'name': 'Pavel', 'age': '36', 'sex': 'Male'}  }\n",
    "\n",
    "\n",
    "sum([int(human['age']) for human in people.values()]) / len(people)"
   ]
  },
  {
   "cell_type": "code",
   "execution_count": 28,
   "metadata": {},
   "outputs": [
    {
     "name": "stdout",
     "output_type": "stream",
     "text": [
      "[['Москва', 'Россия'], ['Владимир', 'Россия'], ['Тула', 'Россия'], ['Тула', 'Россия'], ['Курск', 'Россия'], ['Архангельск', 'Россия']]\n"
     ]
    }
   ],
   "source": [
    "geo_logs = [{'visit1': ['Москва', 'Россия']},\n",
    "            {'visit2': ['Дели', 'Индия']},\n",
    "            {'visit3': ['Владимир', 'Россия']},\n",
    "            {'visit4': ['Лиссабон', 'Португалия']},\n",
    "            {'visit5': ['Париж', 'Франция']},\n",
    "            {'visit6': ['Лиссабон', 'Португалия']},\n",
    "            {'visit7': ['Тула', 'Россия']},\n",
    "            {'visit8': ['Тула', 'Россия']},\n",
    "            {'visit9': ['Курск', 'Россия']},\n",
    "            {'visit10': ['Архангельск', 'Россия']} ]\n",
    "\n",
    "geo_logs1 = []\n",
    "for visit in geo_logs:\n",
    "    for route in visit.values():\n",
    "        if route[1] == 'Россия':\n",
    "            geo_logs1.append(route)\n",
    "print(geo_logs1)"
   ]
  },
  {
   "cell_type": "code",
   "execution_count": 30,
   "metadata": {},
   "outputs": [
    {
     "name": "stdout",
     "output_type": "stream",
     "text": [
      "[{'visit1': ['Москва', 'Россия']}, {'visit3': ['Владимир', 'Россия']}, {'visit7': ['Тула', 'Россия']}, {'visit8': ['Тула', 'Россия']}, {'visit9': ['Курск', 'Россия']}, {'visit10': ['Архангельск', 'Россия']}]\n"
     ]
    }
   ],
   "source": [
    "print([geo_log for geo_log in geo_logs if 'Россия' in list(geo_log.values())[0]])"
   ]
  },
  {
   "cell_type": "code",
   "execution_count": 35,
   "metadata": {},
   "outputs": [
    {
     "data": {
      "text/plain": [
       "[{'visit1': ['Москва', 'Россия']},\n",
       " {'visit3': ['Владимир', 'Россия']},\n",
       " {'visit7': ['Тула', 'Россия']},\n",
       " {'visit8': ['Тула', 'Россия']},\n",
       " {'visit9': ['Курск', 'Россия']},\n",
       " {'visit10': ['Архангельск', 'Россия']}]"
      ]
     },
     "execution_count": 35,
     "metadata": {},
     "output_type": "execute_result"
    }
   ],
   "source": [
    "param = 'Россия'\n",
    "a = list(filter(lambda x: param in list(x.values())[0],geo_logs))\n",
    "a"
   ]
  },
  {
   "cell_type": "code",
   "execution_count": null,
   "metadata": {},
   "outputs": [],
   "source": [
    "some_oxy_text = ''' \n",
    "Весь мой рэп, если коротко, про то, что \n",
    "Уж который год который город под подошвой \n",
    "В гору, когда прет. Потом под гору, когда тошно \n",
    "Я не то, что Гулливер, но все же город под подошвой \n",
    "Город под подошвой, город под подошвой \n",
    "Светофоры, госпошлины, сборы и таможни \n",
    "Я не знаю, вброд или на дно эта дорожка \n",
    "Ты живешь под каблуком, у меня - город под подошвой '''\n",
    "\n"
   ]
  }
 ],
 "metadata": {
  "kernelspec": {
   "display_name": "Python 3",
   "language": "python",
   "name": "python3"
  },
  "language_info": {
   "codemirror_mode": {
    "name": "ipython",
    "version": 3
   },
   "file_extension": ".py",
   "mimetype": "text/x-python",
   "name": "python",
   "nbconvert_exporter": "python",
   "pygments_lexer": "ipython3",
   "version": "3.8.3"
  }
 },
 "nbformat": 4,
 "nbformat_minor": 4
}
