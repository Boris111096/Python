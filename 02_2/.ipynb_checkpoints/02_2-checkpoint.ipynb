{
 "cells": [
  {
   "cell_type": "code",
   "execution_count": null,
   "metadata": {},
   "outputs": [],
   "source": [
    "# Задание 1\n",
    "\n",
    "ids =  {'user1': [213, 213, 213, 15, 213],\n",
    "        'user2': [54, 54, 119, 119, 119],\n",
    "        'user3': [213, 98, 98, 35]}\n",
    "\n",
    "geo = []\n",
    "for user in list(ids.values()):\n",
    "    geo += user\n",
    "print(set(geo))"
   ]
  },
  {
   "cell_type": "code",
   "execution_count": null,
   "metadata": {},
   "outputs": [],
   "source": [
    "# Задание 2\n",
    "\n",
    "queries = [\n",
    "    'смотреть сериалы онлайн',\n",
    "    'новости спорта',\n",
    "    'афиша кино',\n",
    "    'курс доллара',\n",
    "    'сериалы этим летом топ 10',\n",
    "    'курс по питону бесплатно',\n",
    "    'сериалы про спорт',\n",
    "]\n",
    "\n",
    "\n",
    "queries = [len(list(query.split(' '))) for query in queries]\n",
    "\n",
    "for query in set(queries):\n",
    "    dict_[query] = queries.count(query)\n",
    "   \n",
    "for query in dict_:\n",
    "    print('Поисковых запросов, содержащих ', query,' слов(а): ', dict_[query] / sum(dict_.values()) * 100, '%')\n"
   ]
  },
  {
   "cell_type": "code",
   "execution_count": null,
   "metadata": {},
   "outputs": [],
   "source": [
    "# Задание 3\n",
    "\n",
    "results = {\n",
    "            'vk': {'revenue': 103, 'cost': 98},\n",
    "            'yandex': {'revenue': 179, 'cost': 153},\n",
    "            'facebook': {'revenue': 103, 'cost': 110},\n",
    "            'adwords': {'revenue': 35, 'cost': 34},\n",
    "            'twitter': {'revenue': 11, 'cost': 24},\n",
    "            }\n",
    "\n",
    "for result in results:\n",
    "    results[result]['ROI'] = int((results[result]['revenue'] / results[result]['cost'] - 1) * 100)\n",
    "\n",
    "results\n",
    "\n",
    "# ROI = (revenue / cost - 1) * 100"
   ]
  },
  {
   "cell_type": "code",
   "execution_count": null,
   "metadata": {},
   "outputs": [],
   "source": [
    "# Задание 4\n",
    "\n",
    "stats = {'facebook': 55, 'yandex': 115, 'vk': 120, 'google': 130, 'email': 42, 'ok': 98}\n",
    "\n",
    "list_ = list(stats.values())\n",
    "list_.sort()\n",
    "for stat in stats:\n",
    "    if stats[stat] == list_[-1]:\n",
    "        print('Максимальный объем продаж на рекламном канале: ', stat)\n"
   ]
  },
  {
   "cell_type": "code",
   "execution_count": null,
   "metadata": {},
   "outputs": [],
   "source": [
    "# Задание 5\n",
    "\n",
    "list_ = ['a', 'b', 'c', 'd', 'e', 'f']\n",
    "\n",
    "list_.reverse()\n",
    "dict_= {list_[1] : list_[0]}\n",
    "\n",
    "for i in range(2, len(list_)):\n",
    "    dict_ = {list_[i] : dict_}\n",
    "\n",
    "dict_"
   ]
  },
  {
   "cell_type": "code",
   "execution_count": null,
   "metadata": {},
   "outputs": [],
   "source": [
    "# Задание 6\n",
    "\n",
    "cook_book = {\n",
    "  'салат': [\n",
    "     {'ingridient_name': 'сыр', 'quantity': 50, 'measure': 'гр'},\n",
    "     {'ingridient_name': 'томаты', 'quantity': 20, 'measure': 'гр'},\n",
    "     {'ingridient_name': 'огурцы', 'quantity': 20, 'measure': 'гр'},\n",
    "     {'ingridient_name': 'маслины', 'quantity': 10, 'measure': 'гр'},\n",
    "     {'ingridient_name': 'оливковое масло', 'quantity': 20, 'measure': 'мл'},\n",
    "     {'ingridient_name': 'салат', 'quantity': 10, 'measure': 'гр'},\n",
    "     {'ingridient_name': 'перец', 'quantity': 20, 'measure': 'гр'}\n",
    "    ],\n",
    "  'пицца': [\n",
    "     {'ingridient_name': 'сыр', 'quantity': 20, 'measure': 'гр'},\n",
    "     {'ingridient_name': 'колбаса', 'quantity': 30, 'measure': 'гр'},\n",
    "     {'ingridient_name': 'бекон', 'quantity': 30, 'measure': 'гр'},\n",
    "     {'ingridient_name': 'оливки', 'quantity': 10, 'measure': 'гр'},\n",
    "     {'ingridient_name': 'томаты', 'quantity': 20, 'measure': 'гр'},\n",
    "     {'ingridient_name': 'тесто', 'quantity': 100, 'measure': 'гр'},   \n",
    "    ],\n",
    "  'лимонад': [\n",
    "     {'ingridient_name': 'лимон', 'quantity': 1, 'measure': 'шт'},\n",
    "     {'ingridient_name': 'вода', 'quantity': 200, 'measure': 'мл'},\n",
    "     {'ingridient_name': 'сахар', 'quantity': 10, 'measure': 'гр'},\n",
    "     {'ingridient_name': 'лайм', 'quantity': 20, 'measure': 'гр'},    \n",
    "    ]\n",
    "}\n",
    "person = int(input('Количество человек:'))\n",
    "\n",
    "new={}\n",
    "for list_ in cook_book.values():\n",
    "    for item in list_:\n",
    "        meal, weight, gr = list(item.values())\n",
    "        weight = weight * person\n",
    "        if (meal,gr) not in new:\n",
    "            new[(meal,gr)] = weight\n",
    "        else:\n",
    "            new[(meal,gr)] += weight\n",
    "print(f'\\n')\n",
    "for i, k in new:\n",
    "    print(f'{i.capitalize()} — {new.get((i,k))} {k}.')"
   ]
  },
  {
   "cell_type": "code",
   "execution_count": null,
   "metadata": {},
   "outputs": [],
   "source": []
  },
  {
   "cell_type": "code",
   "execution_count": null,
   "metadata": {},
   "outputs": [],
   "source": []
  },
  {
   "cell_type": "code",
   "execution_count": null,
   "metadata": {},
   "outputs": [],
   "source": []
  },
  {
   "cell_type": "code",
   "execution_count": null,
   "metadata": {},
   "outputs": [],
   "source": []
  },
  {
   "cell_type": "code",
   "execution_count": null,
   "metadata": {},
   "outputs": [],
   "source": []
  }
 ],
 "metadata": {
  "kernelspec": {
   "display_name": "Python 3",
   "language": "python",
   "name": "python3"
  },
  "language_info": {
   "codemirror_mode": {
    "name": "ipython",
    "version": 3
   },
   "file_extension": ".py",
   "mimetype": "text/x-python",
   "name": "python",
   "nbconvert_exporter": "python",
   "pygments_lexer": "ipython3",
   "version": "3.8.3"
  }
 },
 "nbformat": 4,
 "nbformat_minor": 4
}
