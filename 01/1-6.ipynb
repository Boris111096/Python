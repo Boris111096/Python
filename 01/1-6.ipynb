{
 "cells": [
  {
   "cell_type": "code",
   "execution_count": 1,
   "metadata": {},
   "outputs": [
    {
     "name": "stdout",
     "output_type": "stream",
     "text": [
      "Фраза 1: 1\n",
      "Фраза 2: 12\n",
      "Фраза 2 длиннее Фразы 1\n"
     ]
    }
   ],
   "source": [
    "# Задание 1\n",
    "\n",
    "phrase_1 = input(\"Фраза 1: \")\n",
    "phrase_2 = input(\"Фраза 2: \")\n",
    "\n",
    "if phrase_1 > phrase_2:\n",
    "    print ('Фраза 1 длиннее Фразы 2')\n",
    "elif phrase_1 == phrase_2:\n",
    "    print ('Фразы равной длины')\n",
    "else:\n",
    "    print ('Фраза 2 длиннее Фразы 1')"
   ]
  },
  {
   "cell_type": "code",
   "execution_count": 21,
   "metadata": {},
   "outputs": [
    {
     "name": "stdout",
     "output_type": "stream",
     "text": [
      "Введите год: 2020\n",
      "Високосный год\n"
     ]
    }
   ],
   "source": [
    "# Задание 2\n",
    "\n",
    "year = int(input('Введите год: '))\n",
    "\n",
    "if year / 4 == year // 4:\n",
    "    print ('Високосный год')\n",
    "else:\n",
    "    print ('Обычный год')"
   ]
  },
  {
   "cell_type": "code",
   "execution_count": 23,
   "metadata": {},
   "outputs": [
    {
     "name": "stdout",
     "output_type": "stream",
     "text": [
      "Введите день: 4\n",
      "Введите месяц: 11\n",
      "Скорпион\n"
     ]
    }
   ],
   "source": [
    "# Задание 3\n",
    "\n",
    "day = int(input('Введите день: '))\n",
    "month = int(input('Введите месяц: '))\n",
    "\n",
    "if month == 1:\n",
    "    if day <21:\n",
    "        print ('Козерог')\n",
    "    else:\n",
    "        print ('Водолей')\n",
    "elif month == 2:\n",
    "    if day <19:\n",
    "        print ('Водолей')\n",
    "    else:\n",
    "        print ('Рыбы')\n",
    "elif month == 3:\n",
    "    if day <21:\n",
    "        print ('Рыбы')\n",
    "    else:\n",
    "        print ('Овен')\n",
    "elif month == 4:\n",
    "    if day <21:\n",
    "        print ('Овен')\n",
    "    else:\n",
    "        print ('Телец')\n",
    "elif month == 5:\n",
    "    if day <22:\n",
    "        print ('Телец')\n",
    "    else:\n",
    "        print ('Близнецы')\n",
    "elif month == 6:\n",
    "    if day <22:\n",
    "        print ('Близнецы')\n",
    "    else:\n",
    "        print ('Рак')\n",
    "elif month == 7:\n",
    "    if day <23:\n",
    "        print ('Рак')\n",
    "    else:\n",
    "        print ('Лев')\n",
    "elif month == 8:\n",
    "    if day <24:\n",
    "        print ('Лев')\n",
    "    else:\n",
    "        print ('Дева')\n",
    "elif month == 9:\n",
    "    if day <24:\n",
    "        print ('Дева')\n",
    "    else:\n",
    "        print ('Весы')\n",
    "elif month == 10:\n",
    "    if day <24:\n",
    "        print ('Весы')\n",
    "    else:\n",
    "        print ('Скорпион')\n",
    "elif month == 11:\n",
    "    if day <23:\n",
    "        print ('Скорпион')\n",
    "    else:\n",
    "        print ('Стрелец')\n",
    "elif month == 12:\n",
    "    if day <22:\n",
    "        print ('Стрелец')\n",
    "    else:\n",
    "        print ('Козерог')\n",
    "\n",
    "# Подразумевается, что нужно вводить существующие даты, иначе программа работать не будет.\n",
    "# Но это можно исправить, введя дополнительные проверки."
   ]
  },
  {
   "cell_type": "code",
   "execution_count": 28,
   "metadata": {},
   "outputs": [
    {
     "name": "stdout",
     "output_type": "stream",
     "text": [
      "Ширина: 123\n",
      "Длина: 123\n",
      "Высота: 123\n",
      "Коробка №2\n",
      "Конец программы\n"
     ]
    }
   ],
   "source": [
    "# Задание 4\n",
    "\n",
    "width = int(input('Ширина: '))\n",
    "length = int(input('Длина: '))\n",
    "height = int(input('Высота: '))\n",
    "\n",
    "if width < 15 and length < 15 and height < 15:\n",
    "    print ('Коробка №1')\n",
    "elif width > 15 or 200 >= length > 15 or height > 15:\n",
    "    print ('Коробка №2')\n",
    "elif length > 200:\n",
    "    print ('Упаковка для лыж')\n",
    "else:\n",
    "    print ('Стандартная коробка №3')"
   ]
  },
  {
   "cell_type": "code",
   "execution_count": 10,
   "metadata": {},
   "outputs": [
    {
     "name": "stdout",
     "output_type": "stream",
     "text": [
      "Номер билета: 123321\n",
      "Счастливый билет!\n"
     ]
    }
   ],
   "source": [
    "# Задание 5\n",
    "\n",
    "number = str(input(\"Номер билета: \"))\n",
    "\n",
    "if len(number) != 6:\n",
    "    print('Неправильный номер билета')\n",
    "else:\n",
    "    if int(number[0])+int(number[1])+int(number[2]) == int(number[3])+int(number[4])+int(number[5]):\n",
    "        print('Счастливый билет!')\n",
    "    else:\n",
    "        print('Билет не счастливый')"
   ]
  },
  {
   "cell_type": "code",
   "execution_count": 8,
   "metadata": {},
   "outputs": [
    {
     "name": "stdout",
     "output_type": "stream",
     "text": [
      "Назовите фигуру: фцуамк\n",
      "Слово введено неверно\n"
     ]
    }
   ],
   "source": [
    "# Задание 6\n",
    "\n",
    "shape = str(input(\"Назовите фигуру: \"))\n",
    "\n",
    "if shape == 'Треугольник':\n",
    "    a = int(input(\"1 сторона: \"))\n",
    "    b = int(input(\"2 сторона: \"))\n",
    "    c = int(input(\"3 сторона: \"))\n",
    "    p = (a+b+c)/2\n",
    "    s = (p*(p-a)*(p-b)*(p-c))**(1/2)\n",
    "    print('Площадь = ',s)\n",
    "elif shape == 'Круг':\n",
    "    r = int(input(\"Радиус круга: \"))\n",
    "    import math\n",
    "    s = math.pi*r**2\n",
    "    print('Площадь = ',s)\n",
    "elif shape == 'Прямоугольник':\n",
    "    a = int(input(\"1 сторона: \"))\n",
    "    b = int(input(\"2 сторона: \"))\n",
    "    s = a*b\n",
    "    print('Площадь = ',s)\n",
    "else:\n",
    "    print ('Неверное название')"
   ]
  },
  {
   "cell_type": "code",
   "execution_count": null,
   "metadata": {},
   "outputs": [],
   "source": []
  }
 ],
 "metadata": {
  "kernelspec": {
   "display_name": "Python 3",
   "language": "python",
   "name": "python3"
  },
  "language_info": {
   "codemirror_mode": {
    "name": "ipython",
    "version": 3
   },
   "file_extension": ".py",
   "mimetype": "text/x-python",
   "name": "python",
   "nbconvert_exporter": "python",
   "pygments_lexer": "ipython3",
   "version": "3.8.3"
  }
 },
 "nbformat": 4,
 "nbformat_minor": 4
}
