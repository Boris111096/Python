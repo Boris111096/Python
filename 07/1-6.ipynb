{
 "cells": [
  {
   "cell_type": "markdown",
   "metadata": {},
   "source": [
    "# Домашнее задание к лекции \"Регулярные выражения\""
   ]
  },
  {
   "cell_type": "code",
   "execution_count": null,
   "metadata": {},
   "outputs": [],
   "source": [
    "import re"
   ]
  },
  {
   "cell_type": "markdown",
   "metadata": {},
   "source": [
    "## Задание 1\n",
    "\n",
    "Напишите функцию, которая принимает на вход строку и проверяет является ли она валидным транспортным номером (1 буква, 3 цифры, 2 буквы, 2-3 цифры). Обратите внимание, что не все буквы кириллического алфавита используются в транспортных номерах (А, В, Е, К, М, Н, О, Р, С, Т, У, Х).\n",
    "\n",
    "Если номер валиден, то функция должна возвращать отдельно номер и регион.\n",
    "\n",
    "Примеры работы программы:  \n",
    "\n",
    "1. `car_id = 'A222BC96'`\n",
    "\n",
    "Результат: \n",
    "`Номер A222BС валиден. Регион: 96`\n",
    "\n",
    "2. `car_id = 'АБ22ВВ193'`\n",
    "\n",
    "Результат: \n",
    "`Номер не валиден`"
   ]
  },
  {
   "cell_type": "code",
   "execution_count": null,
   "metadata": {},
   "outputs": [],
   "source": [
    "def check(car_id):\n",
    "    try:\n",
    "        if car_id == re.findall(r'[АВЕКМНОРСТУХ]\\d{3}[АВЕКМНОРСТУХ]{2}\\d{2,3}',car_id)[0]:\n",
    "            return f'Номер {car_id[:6]} валиден. Регион: {car_id[6:]}'\n",
    "    except:\n",
    "        return 'Номер не валиден'\n",
    "check('А222ВС961')"
   ]
  },
  {
   "cell_type": "markdown",
   "metadata": {},
   "source": [
    "## Задание 2\n",
    "\n",
    "Напишите функцию, которая будет удалять все последовательные повторы слов из заданной строки при помощи регулярных выражений.\n",
    "\n",
    "Пример работы программы:  \n",
    "\n",
    "`some_string = 'Напишите функцию функцию, которая будет будет будет будет удалять все все все все последовательные повторы слов из из из из заданной строки строки при помощи регулярных выражений'`\n",
    "\n",
    "Результат: \n",
    "`Напишите функцию, которая будет удалять все последовательные повторы слов из заданной строки при помощи регулярных выражений.`"
   ]
  },
  {
   "cell_type": "code",
   "execution_count": null,
   "metadata": {
    "scrolled": true
   },
   "outputs": [],
   "source": [
    "some_string = 'Напишите функцию функцию, которая будет будет будет будет удалять все все все все последовательные повторы слов из из из из заданной строки строки при помощи регулярных выражений.'\n",
    "\n",
    "def del_repeat(string):\n",
    "    correct_string = ''\n",
    "    for i, word in enumerate(re.split(r'\\s',string)):\n",
    "        if re.findall(r'\\w+',word)[0] in (re.split(r'\\s',string))[i-1]:\n",
    "            if re.findall(r'\\W',word):\n",
    "                correct_string += re.findall(r'\\W',word)[0]\n",
    "            continue\n",
    "        else:\n",
    "            correct_string += ' ' + word\n",
    "    return correct_string.lstrip()\n",
    "del_repeat(some_string)"
   ]
  },
  {
   "cell_type": "markdown",
   "metadata": {},
   "source": [
    "## Задание 3\n",
    "\n",
    "Напишите функцию, которая будет возвращать акроним по переданной в нее строке со словами.\n",
    "\n",
    "Примеры работы программы:  \n",
    "\n",
    "1. `some_words = 'Информационные технологии'`\n",
    "\n",
    "Результат: \n",
    "`ИТ`\n",
    "\n",
    "2. `some_words = 'Near Field Communication'`\n",
    "\n",
    "Результат: \n",
    "`NFC`"
   ]
  },
  {
   "cell_type": "code",
   "execution_count": null,
   "metadata": {},
   "outputs": [],
   "source": [
    "some_words = 'near field communication'\n",
    "\n",
    "def define_acronym(words):\n",
    "    acronym = ''\n",
    "    for word in re.split(r'\\s',words):\n",
    "        acronym += re.match(r'\\w',word)[0].title()\n",
    "    return acronym\n",
    "\n",
    "define_acronym(some_words)"
   ]
  },
  {
   "cell_type": "markdown",
   "metadata": {},
   "source": [
    "## Задание 4\n",
    "\n",
    "Напишите функцию, которая будет принимать на вход список email-адресов и выводить их распределение по доменным зонам.\n",
    "\n",
    "Пример работы программы:  \n",
    "\n",
    "`emails = ['test@gmail.com', 'xyz@test.in', 'test@ya.ru', 'xyz@mail.ru', 'xyz@ya.ru', 'xyz@gmail.com']`\n",
    "\n",
    "Результат: \n",
    "```\n",
    "gmail.com: 2\n",
    "test.in: 1 \n",
    "ya.ru: 2 \n",
    "mail.ru: 1\n",
    "```"
   ]
  },
  {
   "cell_type": "code",
   "execution_count": null,
   "metadata": {},
   "outputs": [],
   "source": [
    "emails = ['test@gmail.com', 'xyz@test.in', 'test@ya.ru', 'xyz@mail.ru', 'xyz@ya.ru', 'xyz@gmail.com']\n",
    "\n",
    "def split_domains(emails_):\n",
    "    domains = {}\n",
    "    for emeil in emails_:\n",
    "        try:\n",
    "            domains[re.findall(r'(?<=@)\\S+',emeil)[0]] = domains.get(re.findall(r'(?<=@)\\S+',emeil)[0]) + 1\n",
    "        except:\n",
    "            domains[re.findall(r'(?<=@)\\S+',emeil)[0]] = 1\n",
    "    return domains\n",
    "\n",
    "split_domains(emails)"
   ]
  },
  {
   "cell_type": "markdown",
   "metadata": {},
   "source": [
    "## Задание 5 (необязательное)\n",
    "\n",
    "Напишите функцию, которая будет подсчитывать сколько слов начинается на гласные, а сколько на согласные буквы в тексте (текст может быть написан как с использованием букв кириллицы, так и латиницы).\n",
    "\n",
    "Пример работы программы:  \n",
    "\n",
    "`some_text = 'Эталонной реализацией Python является интерпретатор CPython, поддерживающий большинство активно используемых платформ. Он распространяется под свободной лицензией Python Software Foundation License, позволяющей использовать его без ограничений в любых приложениях, включая проприетарные.'`\n",
    "\n",
    "Результат: \n",
    "```\n",
    "Слов на гласные буквы: 9\n",
    "Слов на согласные буквы: 21 \n",
    "```"
   ]
  },
  {
   "cell_type": "code",
   "execution_count": null,
   "metadata": {},
   "outputs": [],
   "source": [
    "some_text = 'Эталонной реализацией Python является интерпретатор CPython, поддерживающий большинство активно используемых платформ. Он распространяется под свободной лицензией Python Software Foundation License, позволяющей использовать его без ограничений в любых приложениях, включая проприетарные.'\n",
    "\n",
    "def find_words(text):\n",
    "    vowels = 0\n",
    "    consonants = 0\n",
    "    for word in re.split(r'\\s+',text):\n",
    "        try:\n",
    "            if re.findall('\\w',word)[0] == re.findall('[AaEeIiOoUuАаУуОоЫыИиЭэЯяЮюЁёЕе]',word)[0]:\n",
    "                vowels += 1\n",
    "        except:\n",
    "            pass\n",
    "        try:\n",
    "            if re.findall('\\w',word)[0] == re.findall('[БбВвГгДдЖжЗзЙйКкЛлМмНнПпРрСсТтФфХхЦцЧчШшЩщBbCcDdFfGgHhJjKkLlMmNnPpQqRrSsTtVvWwXxYyZz]',word)[0]:\n",
    "                consonants += 1\n",
    "        except:\n",
    "            pass\n",
    "    print(f'Слов на гласные буквы: {vowels}')\n",
    "    print(f'Слов на согласные буквы: {consonants}')\n",
    "    return\n",
    "find_words(some_text)"
   ]
  },
  {
   "cell_type": "markdown",
   "metadata": {},
   "source": [
    "## Задание 6 (необязательное)\n",
    "Напишите функцию, которая будет проверять номер сотового телефона на валидность (только для российского формата), если он валиден, то переводить его в формат:   \n",
    "+7-xxx-xxx-xx-xx  \n",
    "Постарайтесь предусмотреть как можно больше адекватных форматов изначального ввода номера.\n",
    "Примеры работы программы:  \n",
    "\n",
    "1. `phone = '+7 955 555-55-55'`\n",
    "\n",
    "Результат: \n",
    "`+7-950-555-55-55`\n",
    "\n",
    "2. `phone = '8(955)555-55-55'`\n",
    "\n",
    "Результат: \n",
    "`+7-950-555-55-55`\n",
    "\n",
    "3. `phone = '+7 955 555 55 55'`\n",
    "\n",
    "Результат: \n",
    "`+7-950-555-55-55`\n",
    "\n",
    "4. `phone = '7(955) 555-55-55'`\n",
    "\n",
    "Результат: \n",
    "`+7-950-555-55-55`\n",
    "\n",
    "5. `phone = '423-555-55-5555'`\n",
    "\n",
    "Результат: \n",
    "`Номер не валиден`\n",
    "\n",
    "6. `phone = '123-456-789'`\n",
    "\n",
    "Результат: \n",
    "`Номер не валиден`"
   ]
  },
  {
   "cell_type": "code",
   "execution_count": null,
   "metadata": {},
   "outputs": [],
   "source": [
    "def phone_check(number):\n",
    "    n = re.findall(r'\\d',number)\n",
    "    if len(n) == 11 and (n[0] == '7' or n[0] == '8') and n[1] == '9':\n",
    "        return f'+7-{n[1]}{n[2]}{n[3]}-{n[4]}{n[5]}{n[6]}-{n[7]}{n[8]}-{n[9]}{n[10]}'\n",
    "    elif len(n) == 10 and n[0] == '9':\n",
    "        return f'+7-{n[0]}{n[1]}{n[2]}-{n[3]}{n[4]}{n[5]}-{n[6]}{n[7]}-{n[8]}{n[9]}'\n",
    "    else:\n",
    "        return 'Номер не валиден'\n",
    "\n",
    "phone = '+7 955 555-55-55'\n",
    "phone_check(phone)"
   ]
  },
  {
   "cell_type": "markdown",
   "metadata": {},
   "source": [
    "#### ПРИМЕЧАНИЕ\n",
    "Домашнее задание сдается ссылкой на репозиторий [GitHub](https://github.com/).\n",
    "Не сможем проверить или помочь, если вы пришлете:\n",
    "- файлы;\n",
    "- архивы;\n",
    "- скриншоты кода.\n",
    "\n",
    "Все обсуждения и консультации по выполнению домашнего задания ведутся только на соответствующем канале в slack.\n",
    "\n",
    "##### Как правильно задавать вопросы аспирантам, преподавателям и коллегам\n",
    "Прежде чем задать вопрос, попробуйте найти ответ в интернете. Навык самостоятельного поиска информации — один из важнейших. Каждый практикующий специалист любого уровня делает это ежедневно.\n",
    "\n",
    "Сформулируйте вопрос по алгоритму:  \n",
    "1) Что я делаю?  \n",
    "2) Какого результата я ожидаю?  \n",
    "3) Как фактический результат отличается от ожидаемого?  \n",
    "4) Что я уже попробовал сделать, чтобы исправить проблему?  \n",
    "\n",
    "По возможности прикрепите к вопросу скриншоты либо ссылки на код. Не выкладывайте все решение, оставляйте только проблемный и воспроизводимый участок кода."
   ]
  }
 ],
 "metadata": {
  "kernelspec": {
   "display_name": "Python 3",
   "language": "python",
   "name": "python3"
  },
  "language_info": {
   "codemirror_mode": {
    "name": "ipython",
    "version": 3
   },
   "file_extension": ".py",
   "mimetype": "text/x-python",
   "name": "python",
   "nbconvert_exporter": "python",
   "pygments_lexer": "ipython3",
   "version": "3.8.3"
  }
 },
 "nbformat": 4,
 "nbformat_minor": 2
}
