{
 "cells": [
  {
   "cell_type": "markdown",
   "metadata": {},
   "source": [
    "# Домашнее задание к лекции «Случайные события. Случайные величины»"
   ]
  },
  {
   "cell_type": "markdown",
   "metadata": {},
   "source": [
    "Смоделировать игру против лотерейного автомата типа “777”. Игрок платит 1 руб., после чего выпадает случайное целое число, равномерно распределенное от 0 до 999. При некоторых значениях числа игрок получает выигрыш\n",
    "\n",
    "* Выгодна ли игра игроку?\n",
    "\n",
    "* Сколько в среднем приобретает или теряет игрок за одну игру?\n",
    "\n",
    "```\n",
    "777: 200 руб.  \n",
    "999: 100 руб.  \n",
    "555: 50 руб.  \n",
    "333: 15 руб.  \n",
    "111: 10 руб.  \n",
    "*77: 5 руб.  \n",
    "**7: 3 руб.  \n",
    "*00: 2 руб.  \n",
    "**0: 1 руб.  \n",
    "\n",
    "* – любая цифра \n",
    "```\n",
    "#### Дополнительное задание повышенной сложности.  \n",
    "Теоретически рассчитать средний выигрыш (проигрыш) и сравнить с результатами моделирования"
   ]
  },
  {
   "cell_type": "code",
   "execution_count": 132,
   "metadata": {},
   "outputs": [],
   "source": [
    "import pandas as pd\n",
    "import numpy as np\n",
    "import matplotlib.pyplot as plt\n",
    "import seaborn as sns\n",
    "from pylab import rcParams\n",
    "rcParams['figure.figsize'] = 13,6"
   ]
  },
  {
   "cell_type": "code",
   "execution_count": 108,
   "metadata": {},
   "outputs": [
    {
     "data": {
      "text/html": [
       "<div>\n",
       "<style scoped>\n",
       "    .dataframe tbody tr th:only-of-type {\n",
       "        vertical-align: middle;\n",
       "    }\n",
       "\n",
       "    .dataframe tbody tr th {\n",
       "        vertical-align: top;\n",
       "    }\n",
       "\n",
       "    .dataframe thead th {\n",
       "        text-align: right;\n",
       "    }\n",
       "</style>\n",
       "<table border=\"1\" class=\"dataframe\">\n",
       "  <thead>\n",
       "    <tr style=\"text-align: right;\">\n",
       "      <th></th>\n",
       "      <th>number</th>\n",
       "      <th>profit</th>\n",
       "    </tr>\n",
       "  </thead>\n",
       "  <tbody>\n",
       "    <tr>\n",
       "      <th>0</th>\n",
       "      <td>000</td>\n",
       "      <td>1</td>\n",
       "    </tr>\n",
       "    <tr>\n",
       "      <th>1</th>\n",
       "      <td>001</td>\n",
       "      <td>-1</td>\n",
       "    </tr>\n",
       "    <tr>\n",
       "      <th>2</th>\n",
       "      <td>002</td>\n",
       "      <td>-1</td>\n",
       "    </tr>\n",
       "    <tr>\n",
       "      <th>3</th>\n",
       "      <td>003</td>\n",
       "      <td>-1</td>\n",
       "    </tr>\n",
       "    <tr>\n",
       "      <th>4</th>\n",
       "      <td>004</td>\n",
       "      <td>-1</td>\n",
       "    </tr>\n",
       "    <tr>\n",
       "      <th>...</th>\n",
       "      <td>...</td>\n",
       "      <td>...</td>\n",
       "    </tr>\n",
       "    <tr>\n",
       "      <th>995</th>\n",
       "      <td>995</td>\n",
       "      <td>-1</td>\n",
       "    </tr>\n",
       "    <tr>\n",
       "      <th>996</th>\n",
       "      <td>996</td>\n",
       "      <td>-1</td>\n",
       "    </tr>\n",
       "    <tr>\n",
       "      <th>997</th>\n",
       "      <td>997</td>\n",
       "      <td>2</td>\n",
       "    </tr>\n",
       "    <tr>\n",
       "      <th>998</th>\n",
       "      <td>998</td>\n",
       "      <td>-1</td>\n",
       "    </tr>\n",
       "    <tr>\n",
       "      <th>999</th>\n",
       "      <td>999</td>\n",
       "      <td>99</td>\n",
       "    </tr>\n",
       "  </tbody>\n",
       "</table>\n",
       "<p>1000 rows × 2 columns</p>\n",
       "</div>"
      ],
      "text/plain": [
       "    number  profit\n",
       "0      000       1\n",
       "1      001      -1\n",
       "2      002      -1\n",
       "3      003      -1\n",
       "4      004      -1\n",
       "..     ...     ...\n",
       "995    995      -1\n",
       "996    996      -1\n",
       "997    997       2\n",
       "998    998      -1\n",
       "999    999      99\n",
       "\n",
       "[1000 rows x 2 columns]"
      ]
     },
     "execution_count": 108,
     "metadata": {},
     "output_type": "execute_result"
    }
   ],
   "source": [
    "#Создадим датафрейм, в котором к каждому возможному числу подставим выигрыш / проигрыш в случае выпадения этого числа.\n",
    "\n",
    "def create_dict():\n",
    "    dict_ = {'number' : [],\n",
    "             'profit' : []}\n",
    "    for i in range(10):\n",
    "        for j in range(10):\n",
    "            for k in range(10):\n",
    "                num = str(i) + str(j) + str(k)\n",
    "                if num == '777':\n",
    "                    profit = 199\n",
    "                elif num == '999':\n",
    "                    profit = 99\n",
    "                elif num == '555':\n",
    "                    profit = 49\n",
    "                elif num == '333':\n",
    "                    profit = 14\n",
    "                elif num == '111':\n",
    "                    profit = 9\n",
    "                elif num[1:3] == '77':\n",
    "                    profit = 4\n",
    "                elif num[2] == '7':\n",
    "                    profit = 2\n",
    "                elif num[1:3] == '00':\n",
    "                    profit = 1\n",
    "                elif num[2] == '0':\n",
    "                    profit = 0\n",
    "                else:\n",
    "                    profit = -1\n",
    "                dict_['number'].append(num)\n",
    "                dict_['profit'].append(profit)\n",
    "    return dict_\n",
    "\n",
    "\n",
    "df = pd.DataFrame(create_dict())\n",
    "df"
   ]
  },
  {
   "cell_type": "code",
   "execution_count": null,
   "metadata": {},
   "outputs": [],
   "source": []
  },
  {
   "cell_type": "code",
   "execution_count": 175,
   "metadata": {},
   "outputs": [
    {
     "name": "stdout",
     "output_type": "stream",
     "text": [
      " 199      1\n",
      " 99       1\n",
      " 49       1\n",
      " 14       1\n",
      " 9        1\n",
      " 4        9\n",
      " 1       10\n",
      " 0       90\n",
      " 2       90\n",
      "-1      796\n",
      "Name: profit, dtype: int64 \n",
      "\n"
     ]
    },
    {
     "data": {
      "image/png": "[encoded data removed]",
      "text/plain": [
       "<Figure size 936x432 with 1 Axes>"
      ]
     },
     "metadata": {
      "needs_background": "light"
     },
     "output_type": "display_data"
    }
   ],
   "source": [
    "print(df['profit'].value_counts().sort_values(),'\\n')\n",
    "plt.plot(df['profit'])\n",
    "plt.show()"
   ]
  },
  {
   "cell_type": "code",
   "execution_count": 158,
   "metadata": {},
   "outputs": [
    {
     "name": "stdout",
     "output_type": "stream",
     "text": [
      "Количество возможных чисел: 1000\n",
      "Количество выигрышных чисел: 114\n",
      "Количество чисел, при которых 'уходим в ноль': 90\n",
      "Вероятность выиграть: 0.114\n",
      "Вероятность 'уйти в ноль': 0.09\n",
      "Вероятность проиграть: 0.796\n",
      "Средний выигрыш: -0.2\n"
     ]
    }
   ],
   "source": [
    "print(f\"Количество возможных чисел: {df['profit'].count()}\")\n",
    "print(f\"Количество выигрышных чисел: {df[df['profit'] > 0]['profit'].count()}\")\n",
    "print(f\"Количество чисел, при которых 'уходим в ноль': {df[df['profit'] == 0]['profit'].count()}\")\n",
    "print(f\"Вероятность выиграть: {df[df['profit'] > 0]['profit'].count() / df['profit'].count()}\")\n",
    "print(f\"Вероятность 'уйти в ноль': {df[df['profit'] == 0]['profit'].count() / df['profit'].count()}\")\n",
    "print(f\"Вероятность проиграть: {df[df['profit'] < 0]['profit'].count() / df['profit'].count()}\")\n",
    "print(f\"Средний выигрыш: {df['profit'].mean()}\")"
   ]
  },
  {
   "cell_type": "markdown",
   "metadata": {},
   "source": [
    "==> т.к. средний выигрыш получился отрицательным, то в среднем игрок будет терять деньги, играя в автомат"
   ]
  },
  {
   "cell_type": "markdown",
   "metadata": {},
   "source": [
    "____\n",
    "#### Доп. задание.\n",
    "____"
   ]
  },
  {
   "cell_type": "code",
   "execution_count": 190,
   "metadata": {},
   "outputs": [],
   "source": [
    "def try_(quantity = 1):\n",
    "    \n",
    "    '''\n",
    "    Функция генерирует одну попытку игры в автомат. Возвращает значение выигрыша / проигрыша.\n",
    "    Можно указать количество попыток — тогда вернёт суммарный выигрыш или проигрыш\n",
    "    '''\n",
    "    \n",
    "    profit = 0\n",
    "    for i in range(quantity):\n",
    "        num = str(np.random.randint(0, 10)) + str(np.random.randint(0, 10)) + str(np.random.randint(0, 10))\n",
    "        if num == '777':\n",
    "            profit += 199\n",
    "        elif num == '999':\n",
    "            profit += 99\n",
    "        elif num == '555':\n",
    "            profit += 49\n",
    "        elif num == '333':\n",
    "            profit += 14\n",
    "        elif num == '111':\n",
    "            profit += 9\n",
    "        elif num[1:3] == '77':\n",
    "            profit += 4\n",
    "        elif num[2] == '7':\n",
    "            profit += 2\n",
    "        elif num[1:3] == '00':\n",
    "            profit += 1\n",
    "        elif num[2] == '0':\n",
    "            profit += 0\n",
    "        else:\n",
    "            profit -= 1\n",
    "    return profit"
   ]
  },
  {
   "cell_type": "code",
   "execution_count": 191,
   "metadata": {},
   "outputs": [
    {
     "name": "stdout",
     "output_type": "stream",
     "text": [
      "-2007272\n",
      "-0.2007272\n"
     ]
    }
   ],
   "source": [
    "n = 10000000\n",
    "try_n = try_(n)\n",
    "print(try_n)\n",
    "print(try_n / n)"
   ]
  },
  {
   "cell_type": "markdown",
   "metadata": {},
   "source": [
    "#### Вывод:\n",
    "Рассчетный теоретический средний выигрыш составил -0,2.  \n",
    "Практический же — -0.2007272, что похоже на наш рассчетный вариант."
   ]
  },
  {
   "cell_type": "code",
   "execution_count": null,
   "metadata": {},
   "outputs": [],
   "source": []
  },
  {
   "cell_type": "code",
   "execution_count": null,
   "metadata": {},
   "outputs": [],
   "source": []
  },
  {
   "cell_type": "code",
   "execution_count": null,
   "metadata": {},
   "outputs": [],
   "source": []
  },
  {
   "cell_type": "code",
   "execution_count": null,
   "metadata": {},
   "outputs": [],
   "source": []
  },
  {
   "cell_type": "code",
   "execution_count": null,
   "metadata": {},
   "outputs": [],
   "source": []
  },
  {
   "cell_type": "code",
   "execution_count": null,
   "metadata": {},
   "outputs": [],
   "source": []
  }
 ],
 "metadata": {
  "kernelspec": {
   "display_name": "Python 3",
   "language": "python",
   "name": "python3"
  },
  "language_info": {
   "codemirror_mode": {
    "name": "ipython",
    "version": 3
   },
   "file_extension": ".py",
   "mimetype": "text/x-python",
   "name": "python",
   "nbconvert_exporter": "python",
   "pygments_lexer": "ipython3",
   "version": "3.8.3"
  }
 },
 "nbformat": 4,
 "nbformat_minor": 4
}
