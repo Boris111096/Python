{
 "cells": [
  {
   "cell_type": "markdown",
   "metadata": {},
   "source": [
    "# Домашнее задание к лекции Работа с файловой системой и модули\n",
    "#### Учтите условия на данные:\n",
    "#### содержимое purchase_log.txt помещается в оперативную память компьютера\n",
    "#### содержимое visit_log.csv - нет; используйте только построчную обработку этого файла"
   ]
  },
  {
   "cell_type": "markdown",
   "metadata": {},
   "source": [
    "### 1. Переведите содержимое файла purchase_log.txt в словарь purchases вида: {‘1840e0b9d4’: ‘Продукты’, …}"
   ]
  },
  {
   "cell_type": "code",
   "execution_count": 1,
   "metadata": {},
   "outputs": [],
   "source": [
    "purchase_log = open('purchase_log.txt', 'r', encoding='utf-8')\n",
    "\n",
    "import json\n",
    "\n",
    "purchases = {}\n",
    "\n",
    "def pf():\n",
    "    for purchase in purchase_log:\n",
    "        dict_ = json.loads(purchase)\n",
    "        purchases[dict_.get('user_id')] = dict_.get('category')\n",
    "pf()"
   ]
  },
  {
   "cell_type": "markdown",
   "metadata": {},
   "source": [
    "### 2. Для каждого user_id в файле visit_log.csv определите третий столбец с категорией покупки (если покупка была, сам файл visit_log.csv изменять не надо). Запишите в файл funnel.csv визиты из файла visit_log.csv, в которых были покупки с указанием категории."
   ]
  },
  {
   "cell_type": "code",
   "execution_count": 2,
   "metadata": {},
   "outputs": [],
   "source": [
    "visit_log = open('visit_log.csv', 'r', encoding='utf-8')\n",
    "funnel = open('funnel.csv', 'w')\n",
    "\n",
    "for string in visit_log:\n",
    "    if string.strip().split(',')[0] in purchases:\n",
    "        funnel.write(str(string.strip().split(',') + [purchases[string.strip().split(',')[0]]]) + '\\n')"
   ]
  },
  {
   "cell_type": "code",
   "execution_count": 3,
   "metadata": {},
   "outputs": [
    {
     "name": "stdout",
     "output_type": "stream",
     "text": [
      "0 ['user_id', 'source', 'category']\n",
      "\n",
      "1 ['1840e0b9d4', 'other', 'Продукты']\n",
      "\n",
      "2 ['4e4f90fcfb', 'context', 'Электроника']\n",
      "\n",
      "3 ['afea8d72fc', 'other', 'Электроника']\n",
      "\n",
      "4 ['2824221f38', 'email', 'Продукты']\n",
      "\n",
      "5 ['373a6055fe', 'other', 'Бытовая техника']\n",
      "\n",
      "6 ['9b2ab046f3', 'other', 'Электроника']\n",
      "\n"
     ]
    }
   ],
   "source": [
    "# Проверочный код:\n",
    "\n",
    "f = open('funnel.csv', 'r')\n",
    "\n",
    "for i, item in enumerate(f):\n",
    "    print(i,item)\n",
    "    if i > 5:\n",
    "        break"
   ]
  },
  {
   "cell_type": "code",
   "execution_count": null,
   "metadata": {},
   "outputs": [],
   "source": []
  },
  {
   "cell_type": "code",
   "execution_count": null,
   "metadata": {},
   "outputs": [],
   "source": []
  },
  {
   "cell_type": "code",
   "execution_count": null,
   "metadata": {},
   "outputs": [],
   "source": []
  },
  {
   "cell_type": "code",
   "execution_count": null,
   "metadata": {},
   "outputs": [],
   "source": []
  }
 ],
 "metadata": {
  "kernelspec": {
   "display_name": "Python 3",
   "language": "python",
   "name": "python3"
  },
  "language_info": {
   "codemirror_mode": {
    "name": "ipython",
    "version": 3
   },
   "file_extension": ".py",
   "mimetype": "text/x-python",
   "name": "python",
   "nbconvert_exporter": "python",
   "pygments_lexer": "ipython3",
   "version": "3.8.3"
  }
 },
 "nbformat": 4,
 "nbformat_minor": 4
}
