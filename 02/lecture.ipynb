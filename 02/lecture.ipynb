{
 "cells": [
  {
   "cell_type": "code",
   "execution_count": 7,
   "metadata": {},
   "outputs": [
    {
     "name": "stdout",
     "output_type": "stream",
     "text": [
      "['John', 'Jack']\n"
     ]
    }
   ],
   "source": [
    "boys = ['Peter', 'Alex', 'John', 'Arthur', 'Richard', 'Jack', 'Jack', 'John']\n",
    "res = []\n",
    "\n",
    "for boy in boys:\n",
    "    if boys.count(boy) > 1 and boy not in res:\n",
    "        res.append(boy)\n",
    "print(res)"
   ]
  },
  {
   "cell_type": "code",
   "execution_count": 14,
   "metadata": {},
   "outputs": [
    {
     "name": "stdout",
     "output_type": "stream",
     "text": [
      "103\n"
     ]
    }
   ],
   "source": [
    "data = [ [13, 25, 23, 34],\n",
    "         [45, 32, 44, 47],\n",
    "         [12, 33, 23, 95],\n",
    "         [13, 53, 34, 35]\n",
    "       ]\n",
    "x = 0\n",
    "s = 0\n",
    "\n",
    "for number in data:\n",
    "    s += (number[x])\n",
    "    x += 1\n",
    "print(s)"
   ]
  },
  {
   "cell_type": "code",
   "execution_count": 16,
   "metadata": {},
   "outputs": [
    {
     "name": "stdout",
     "output_type": "stream",
     "text": [
      "124\n"
     ]
    }
   ],
   "source": [
    "data = [ [13, 25, 23, 34],\n",
    "         [45, 32, 44, 47],\n",
    "         [12, 33, 23, 95],\n",
    "         [13, 53, 34, 35]\n",
    "       ]\n",
    "\n",
    "sum_ = 0\n",
    "index = -1\n",
    "\n",
    "for number in data:\n",
    "    sum_ += number[index]\n",
    "    index -= 1\n",
    "print(sum_)"
   ]
  },
  {
   "cell_type": "code",
   "execution_count": 24,
   "metadata": {},
   "outputs": [
    {
     "data": {
      "text/plain": [
       "['Python',\n",
       " '—',\n",
       " 'высокоуровневый',\n",
       " 'язык',\n",
       " 'программирования,',\n",
       " 'ориентированный',\n",
       " 'на',\n",
       " 'повышение',\n",
       " 'производительности',\n",
       " 'разработчика',\n",
       " 'и',\n",
       " 'читаемости',\n",
       " 'кода.']"
      ]
     },
     "execution_count": 24,
     "metadata": {},
     "output_type": "execute_result"
    }
   ],
   "source": [
    "text = 'Python — высокоуровневый язык программирования, ориентированный на повышение производительности разработчика и читаемости кода.'\n",
    "\n",
    "text.split(' ')\n"
   ]
  },
  {
   "cell_type": "code",
   "execution_count": 27,
   "metadata": {},
   "outputs": [
    {
     "name": "stdout",
     "output_type": "stream",
     "text": [
      "IT :\n",
      "['Гейтс', 'Джобс', 'Возняк']\n",
      "Физика :\n",
      "['Эйнштейн', 'Фейнман']\n",
      "Математика :\n",
      "['Эвклид', 'Ньютон']\n"
     ]
    }
   ],
   "source": [
    "professions = ['IT', 'Физика', 'Математика']\n",
    "persons = [['Гейтс', 'Джобс', 'Возняк'], ['Эйнштейн', 'Фейнман'], ['Эвклид', 'Ньютон']]\n",
    "\n",
    "\n",
    "index = 0\n",
    "for profession in professions:\n",
    "    print(profession,':')\n",
    "    print(persons[index])\n",
    "    index += 1"
   ]
  },
  {
   "cell_type": "code",
   "execution_count": 30,
   "metadata": {},
   "outputs": [
    {
     "name": "stdout",
     "output_type": "stream",
     "text": [
      "\n",
      "1\n",
      "22\n",
      "333\n",
      "4444\n",
      "55555\n",
      "666666\n",
      "7777777\n",
      "88888888\n",
      "999999999\n"
     ]
    }
   ],
   "source": [
    "num = 0\n",
    "\n",
    "while num <10:\n",
    "    print(str(num)*int(num))\n",
    "    num += 1"
   ]
  }
 ],
 "metadata": {
  "kernelspec": {
   "display_name": "Python 3",
   "language": "python",
   "name": "python3"
  },
  "language_info": {
   "codemirror_mode": {
    "name": "ipython",
    "version": 3
   },
   "file_extension": ".py",
   "mimetype": "text/x-python",
   "name": "python",
   "nbconvert_exporter": "python",
   "pygments_lexer": "ipython3",
   "version": "3.8.3"
  }
 },
 "nbformat": 4,
 "nbformat_minor": 4
}
