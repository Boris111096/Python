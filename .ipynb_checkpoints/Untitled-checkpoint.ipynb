{
 "cells": [
  {
   "cell_type": "code",
   "execution_count": 17,
   "metadata": {},
   "outputs": [
    {
     "name": "stdout",
     "output_type": "stream",
     "text": [
      "7.646200989054704889310727660E+1302\n",
      "11.25506067276001\n"
     ]
    }
   ],
   "source": [
    "import time\n",
    "start_time = time.time()\n",
    "\n",
    "from decimal import *\n",
    "\n",
    "def exp(x):\n",
    "    getcontext().prec += 2\n",
    "    i, lasts, s, fact, num = 0, 0, 1, 1, 1\n",
    "    while s != lasts:\n",
    "        lasts = s\n",
    "        i += 1\n",
    "        fact *= i\n",
    "        num *= x\n",
    "        s += num / fact\n",
    "    getcontext().prec -= 2\n",
    "    return +s\n",
    "\n",
    "print(exp(Decimal(3000)))\n",
    "print(time.time() - start_time)"
   ]
  },
  {
   "cell_type": "code",
   "execution_count": 18,
   "metadata": {},
   "outputs": [
    {
     "name": "stdout",
     "output_type": "stream",
     "text": [
      "2.078452920529298333114878230E+1303\n",
      "11.2290620803833\n"
     ]
    }
   ],
   "source": [
    "import time\n",
    "start_time = time.time()\n",
    "\n",
    "from decimal import *\n",
    "\n",
    "def exp(x):\n",
    "    getcontext().prec += 2\n",
    "    i, lasts, s, fact, num = 0, 0, 1, 1, 1\n",
    "    while s != lasts:\n",
    "        lasts = s\n",
    "        i += 1\n",
    "        fact *= i\n",
    "        num *= x\n",
    "        s += num / fact\n",
    "    getcontext().prec -= 2\n",
    "    return +s\n",
    "\n",
    "print(exp(Decimal(3001)))\n",
    "print(time.time() - start_time)"
   ]
  },
  {
   "cell_type": "code",
   "execution_count": 19,
   "metadata": {},
   "outputs": [
    {
     "name": "stdout",
     "output_type": "stream",
     "text": [
      "5.649820805182423710586512754E+1303\n",
      "11.30601954460144\n"
     ]
    }
   ],
   "source": [
    "import time\n",
    "start_time = time.time()\n",
    "\n",
    "from decimal import *\n",
    "\n",
    "def exp(x):\n",
    "    getcontext().prec += 2\n",
    "    i, lasts, s, fact, num = 0, 0, 1, 1, 1\n",
    "    while s != lasts:\n",
    "        lasts = s\n",
    "        i += 1\n",
    "        fact *= i\n",
    "        num *= x\n",
    "        s += num / fact\n",
    "    getcontext().prec -= 2\n",
    "    return +s\n",
    "\n",
    "print(exp(Decimal(3002)))\n",
    "print(time.time() - start_time)"
   ]
  },
  {
   "cell_type": "code",
   "execution_count": 2,
   "metadata": {},
   "outputs": [
    {
     "name": "stdout",
     "output_type": "stream",
     "text": [
      "7.646200989054704889310727660E+1302\n",
      "Wall time: 11.3 s\n"
     ]
    }
   ],
   "source": [
    "%%time\n",
    "from decimal import *\n",
    "\n",
    "def exp(x):\n",
    "    getcontext().prec += 2\n",
    "    i, lasts, s, fact, num = 0, 0, 1, 1, 1\n",
    "    while s != lasts:\n",
    "        lasts = s\n",
    "        i += 1\n",
    "        fact *= i\n",
    "        num *= x\n",
    "        s += num / fact\n",
    "    getcontext().prec -= 2\n",
    "    return +s\n",
    "\n",
    "print(exp(Decimal(3000)))"
   ]
  }
 ],
 "metadata": {
  "kernelspec": {
   "display_name": "Python 3",
   "language": "python",
   "name": "python3"
  },
  "language_info": {
   "codemirror_mode": {
    "name": "ipython",
    "version": 3
   },
   "file_extension": ".py",
   "mimetype": "text/x-python",
   "name": "python",
   "nbconvert_exporter": "python",
   "pygments_lexer": "ipython3",
   "version": "3.8.3"
  }
 },
 "nbformat": 4,
 "nbformat_minor": 4
}
